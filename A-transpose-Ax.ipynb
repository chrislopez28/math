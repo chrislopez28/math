{
 "cells": [
  {
   "cell_type": "markdown",
   "metadata": {},
   "source": [
    "## Question: If $A^TAx = 0$ then $Ax = 0$. Why is this? \n",
    "\n",
    "### Unpacking $A^TAx$ = 0\n",
    "Let's take a look at the first part of the statement. $A^TAx = 0$ can be rewritten $A^T(Ax) = 0$, where $Ax$ is an m x 1 vector. Then by definition, $Ax$ is a vector in the nullspace of $A^T$. \n",
    "\n",
    "### Unpacking $Ax$ = 0\n",
    "Now let's take a look at the second part of the statement, $Ax = 0$. What is $Ax$? Well it's the matrix product of the m x n matrix $A$ and the n x 1 vector $x$. We see $Ax$ in the equation $Ax = b$, where $b$ is some m x 1 vector that is in the column space of $A$. The column space bit is important. If $b$ is not in the column space of $A$, then there is no solution and $Ax \\neq b$. This is because $Ax$ is a linear combination of columns of $A$:\n",
    "\n",
    "$$\n",
    "Ax = x_1\\vec{a}_1 + x_2\\vec{a}_2 + ... + \\ x_n\\vec{a}_n\n",
    "$$\n",
    "\n",
    "where, $\\vec{a}_i$ are the columns of $A$.\n",
    "\n",
    "This means $Ax$ is in the column space of $A$. \n",
    "\n",
    "### What do we know about $C(A)$ and $null(A^T)$?\n",
    "\n",
    "So what do we have now? We have that $Ax$ is in the nullspace of $A^T$. We also have that $Ax$ is in the column space of $A$. For a matrix $A$, what do we know about its column space and left nullspace (left nullspace being the nullspace of $A^T$)? Well, we know that these are two of $A$'s fundamental subspaces. We know that the column space and left nullspace are in $\\mathbb{R}^m$. Importantly, we also know that these two subspaces are orthogonal to each other. This means that if you pick a vector $v$ that is in $C(A)$ and another vector $u$ in $null(A^T)$, the dot product of these two vectors ($v^tu$ or $v \\cdot u$) will be 0.\n",
    "\n",
    "This is a key insight for our original problem. If $Ax$ is in both $C(A)$ and $null(A^T)$, then $Ax$ can only be the zero vector since $C(A)$ is orthogonal to $null(A^T)$."
   ]
  },
  {
   "cell_type": "code",
   "execution_count": null,
   "metadata": {},
   "outputs": [],
   "source": []
  }
 ],
 "metadata": {
  "kernelspec": {
   "display_name": "Python 3",
   "language": "python",
   "name": "python3"
  },
  "language_info": {
   "codemirror_mode": {
    "name": "ipython",
    "version": 3
   },
   "file_extension": ".py",
   "mimetype": "text/x-python",
   "name": "python",
   "nbconvert_exporter": "python",
   "pygments_lexer": "ipython3",
   "version": "3.7.0"
  }
 },
 "nbformat": 4,
 "nbformat_minor": 2
}
