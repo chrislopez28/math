{
 "cells": [
  {
   "cell_type": "markdown",
   "metadata": {},
   "source": [
    "### Finding Roots of Equations\n",
    "\n",
    "This example is from Chapra's Surface Water-Quality Modeling (Example 14.5). Suppose we have a flowing trapezoidal channel that can be described by Manning's Equation and has:\n",
    "\n",
    "* Flow = 6.25 cubic meters per second\n",
    "* Channel Slope = 0.0002\n",
    "* Bottom Width = 10 meters\n",
    "* Side Slope = 2\n",
    "* Roughness = 0.035\n",
    "\n",
    "We can use Manning's Equation combined with equations that take into account the channel's trapezoidal geometry to find the depth $y$ of the channel:\n",
    "\n",
    "$$\n",
    "f(y) = \\frac{1}{n} \\frac{[(B_0 + sy)y]^{5/3}}{(B_0 + 2y \\sqrt{s^2 + 1)})^{2/3}} S_e^{1/2} - Q = 0\n",
    "$$\n",
    "\n",
    "Substituting in values we get:\n",
    "\n",
    "$$\n",
    "f(y) = 0.4041 \\frac{[(10 + 2y)y]^{5/3}}{(10 + 4.472y)^{2/3}} - 6.25 = 0\n",
    "$$\n",
    "\n",
    "We can use R to solve for y."
   ]
  },
  {
   "cell_type": "code",
   "execution_count": 1,
   "metadata": {},
   "outputs": [],
   "source": [
    "fun <- function(y) {\n",
    "    ((0.4041)*(((10 + 2*y)*y)^(5/3))/(10 + 4.472*y)^(2/3)) - 6.25\n",
    "}"
   ]
  },
  {
   "cell_type": "markdown",
   "metadata": {},
   "source": [
    "We can use R's `curve` function \n",
    "\n",
    "~~~~\n",
    "\n",
    "curve(test, 0, 8)\n",
    "abline(h = 0, lty = 3)\n",
    "\n",
    "~~~~"
   ]
  },
  {
   "cell_type": "code",
   "execution_count": 2,
   "metadata": {},
   "outputs": [
    {
     "data": {
      "image/png": "[encoded data removed]",
      "text/plain": [
       "plot without title"
      ]
     },
     "metadata": {},
     "output_type": "display_data"
    }
   ],
   "source": [
    "curve(fun, 0, 8)\n",
    "abline(h = 0, lty = 3)"
   ]
  },
  {
   "cell_type": "code",
   "execution_count": 8,
   "metadata": {},
   "outputs": [
    {
     "data": {
      "text/html": [
       "<dl>\n",
       "\t<dt>$root</dt>\n",
       "\t\t<dd>1.24172076629043</dd>\n",
       "\t<dt>$f.root</dt>\n",
       "\t\t<dd>-4.35787776567054e-05</dd>\n",
       "\t<dt>$iter</dt>\n",
       "\t\t<dd>10</dd>\n",
       "\t<dt>$init.it</dt>\n",
       "\t\t<dd>&lt;NA&gt;</dd>\n",
       "\t<dt>$estim.prec</dt>\n",
       "\t\t<dd>6.10351562504441e-05</dd>\n",
       "</dl>\n"
      ],
      "text/latex": [
       "\\begin{description}\n",
       "\\item[\\$root] 1.24172076629043\n",
       "\\item[\\$f.root] -4.35787776567054e-05\n",
       "\\item[\\$iter] 10\n",
       "\\item[\\$init.it] <NA>\n",
       "\\item[\\$estim.prec] 6.10351562504441e-05\n",
       "\\end{description}\n"
      ],
      "text/markdown": [
       "$root\n",
       ":   1.24172076629043\n",
       "$f.root\n",
       ":   -4.35787776567054e-05\n",
       "$iter\n",
       ":   10\n",
       "$init.it\n",
       ":   &lt;NA&gt;\n",
       "$estim.prec\n",
       ":   6.10351562504441e-05\n",
       "\n",
       "\n"
      ],
      "text/plain": [
       "$root\n",
       "[1] 1.241721\n",
       "\n",
       "$f.root\n",
       "[1] -4.357878e-05\n",
       "\n",
       "$iter\n",
       "[1] 10\n",
       "\n",
       "$init.it\n",
       "[1] NA\n",
       "\n",
       "$estim.prec\n",
       "[1] 6.103516e-05\n"
      ]
     },
     "metadata": {},
     "output_type": "display_data"
    }
   ],
   "source": [
    "uniroot(test, c(0, 8))"
   ]
  },
  {
   "cell_type": "code",
   "execution_count": null,
   "metadata": {},
   "outputs": [],
   "source": []
  }
 ],
 "metadata": {
  "kernelspec": {
   "display_name": "R",
   "language": "R",
   "name": "ir"
  },
  "language_info": {
   "codemirror_mode": "r",
   "file_extension": ".r",
   "mimetype": "text/x-r-source",
   "name": "R",
   "pygments_lexer": "r",
   "version": "3.6.1"
  }
 },
 "nbformat": 4,
 "nbformat_minor": 2
}
